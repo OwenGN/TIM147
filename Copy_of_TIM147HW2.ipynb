{
  "nbformat": 4,
  "nbformat_minor": 0,
  "metadata": {
    "colab": {
      "provenance": [],
      "authorship_tag": "ABX9TyPdZAD0J6Y/teQF4oyVDynx",
      "include_colab_link": true
    },
    "kernelspec": {
      "name": "python3",
      "display_name": "Python 3"
    },
    "language_info": {
      "name": "python"
    }
  },
  "cells": [
    {
      "cell_type": "markdown",
      "metadata": {
        "id": "view-in-github",
        "colab_type": "text"
      },
      "source": [
        "<a href=\"https://colab.research.google.com/github/OwenGN/TIM147/blob/main/Copy_of_TIM147HW2.ipynb\" target=\"_parent\"><img src=\"https://colab.research.google.com/assets/colab-badge.svg\" alt=\"Open In Colab\"/></a>"
      ]
    },
    {
      "cell_type": "code",
      "execution_count": 50,
      "metadata": {
        "colab": {
          "base_uri": "https://localhost:8080/"
        },
        "id": "C-RLM7y0bntv",
        "outputId": "e6d53350-adee-41d0-8bda-3262b195a496"
      },
      "outputs": [
        {
          "output_type": "stream",
          "name": "stdout",
          "text": [
            "Accuracy: 0.617\n",
            "Classification Report:\n",
            "               precision    recall  f1-score   support\n",
            "\n",
            "       LEAVE       0.61      0.61      0.61      1966\n",
            "        STAY       0.62      0.62      0.62      2034\n",
            "\n",
            "    accuracy                           0.62      4000\n",
            "   macro avg       0.62      0.62      0.62      4000\n",
            "weighted avg       0.62      0.62      0.62      4000\n",
            "\n",
            "Confusion Matrix:\n",
            " [[1201  765]\n",
            " [ 767 1267]]\n"
          ]
        }
      ],
      "source": [
        "import pandas as pd\n",
        "from sklearn.model_selection import train_test_split\n",
        "from sklearn.tree import DecisionTreeClassifier\n",
        "from sklearn.metrics import accuracy_score, classification_report, confusion_matrix\n",
        "import matplotlib.pyplot as plt\n",
        "from sklearn.tree import plot_tree\n",
        "from sklearn.preprocessing import LabelEncoder\n",
        "\n",
        "data = pd.read_excel('Customer_Churn.xlsx')\n",
        "\n",
        "ordinal_features = [\"REPORTED_SATISFACTION\", \"REPORTED_USAGE_LEVEL\", \"CONSIDERING_CHANGE_OF_PLAN\"]\n",
        "label_encoder = LabelEncoder()\n",
        "\n",
        "for feature in ordinal_features:\n",
        "    data[feature] = label_encoder.fit_transform(data[feature])\n",
        "\n",
        "#data = pd.get_dummies(data, columns=[\"COLLEGE\"])\n",
        "#data = pd.get_dummies(data, columns=[\"ABOVE AVG INCOME\"])\n",
        "X = data.drop(columns=['LEAVE','ABOVE AVG INCOME','COLLEGE','LEFTOVER','HANDSET_PRICE','REPORTED_USAGE_LEVEL','CONSIDERING_CHANGE_OF_PLAN','REPORTED_SATISFACTION'])\n",
        "Y = data['LEAVE']\n",
        "\n",
        "X_train, X_test, Y_train, Y_test = train_test_split(X,Y, test_size=0.2, random_state=42)\n",
        "\n",
        "model = DecisionTreeClassifier()\n",
        "model.fit(X_train, Y_train)\n",
        "\n",
        "Y_pred = model.predict(X_test)\n",
        "\n",
        "accuracy = accuracy_score(Y_test, Y_pred)\n",
        "report = classification_report(Y_test, Y_pred)\n",
        "conf_matrix = confusion_matrix(Y_test, Y_pred)\n",
        "\n",
        "print(\"Accuracy:\", accuracy)\n",
        "print(\"Classification Report:\\n\", report)\n",
        "print(\"Confusion Matrix:\\n\", conf_matrix)\n",
        "\n",
        "#plt.figure(figsize=(10,6))\n",
        "#plot_tree(model, feature_names=X.columns, class_names=['Stay', 'Leave'], filled=True)\n",
        "#plt.show()\n"
      ]
    }
  ]
}