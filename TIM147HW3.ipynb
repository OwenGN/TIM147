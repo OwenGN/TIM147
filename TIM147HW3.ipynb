{
  "nbformat": 4,
  "nbformat_minor": 0,
  "metadata": {
    "colab": {
      "provenance": [],
      "authorship_tag": "ABX9TyN0GvO+o/Np49m8vd2XmcGd",
      "include_colab_link": true
    },
    "kernelspec": {
      "name": "python3",
      "display_name": "Python 3"
    },
    "language_info": {
      "name": "python"
    }
  },
  "cells": [
    {
      "cell_type": "markdown",
      "metadata": {
        "id": "view-in-github",
        "colab_type": "text"
      },
      "source": [
        "<a href=\"https://colab.research.google.com/github/OwenGN/TIM147/blob/main/TIM147HW3.ipynb\" target=\"_parent\"><img src=\"https://colab.research.google.com/assets/colab-badge.svg\" alt=\"Open In Colab\"/></a>"
      ]
    },
    {
      "cell_type": "code",
      "execution_count": 65,
      "metadata": {
        "colab": {
          "base_uri": "https://localhost:8080/"
        },
        "id": "C-RLM7y0bntv",
        "outputId": "fc32c765-d370-4294-8579-d479258ec609"
      },
      "outputs": [
        {
          "output_type": "stream",
          "name": "stdout",
          "text": [
            "Accuracy: 0.615\n",
            "Classification Report:\n",
            "               precision    recall  f1-score   support\n",
            "\n",
            "       LEAVE       0.61      0.61      0.61      1966\n",
            "        STAY       0.62      0.62      0.62      2034\n",
            "\n",
            "    accuracy                           0.61      4000\n",
            "   macro avg       0.61      0.61      0.61      4000\n",
            "weighted avg       0.62      0.61      0.62      4000\n",
            "\n",
            "Confusion Matrix:\n",
            " [[1198  768]\n",
            " [ 772 1262]]\n"
          ]
        }
      ],
      "source": [
        "import pandas as pd\n",
        "from sklearn.model_selection import train_test_split\n",
        "from sklearn.tree import DecisionTreeClassifier\n",
        "from sklearn.metrics import accuracy_score, classification_report, confusion_matrix\n",
        "import matplotlib.pyplot as plt\n",
        "from sklearn.tree import plot_tree\n",
        "from sklearn.preprocessing import LabelEncoder\n",
        "%matplotlib inline\n",
        "%config InlineBackend.figure_format=\"retina\"\n",
        "import numpy as np\n",
        "from sklearn.linear_model import LogisticRegression\n",
        "\n",
        "import random\n",
        "import torch\n",
        "from torch import nn, optim\n",
        "import math\n",
        "from IPython import display\n",
        "\n",
        "data = pd.read_excel('Customer_Churn.xlsx')\n",
        "data2 = data\n",
        "\n",
        "ordinal_features = [\"REPORTED_SATISFACTION\", \"REPORTED_USAGE_LEVEL\", \"CONSIDERING_CHANGE_OF_PLAN\"]\n",
        "label_encoder = LabelEncoder()\n",
        "\n",
        "for feature in ordinal_features:\n",
        "    data[feature] = label_encoder.fit_transform(data[feature])\n",
        "\n",
        "#data = pd.get_dummies(data, columns=[\"COLLEGE\"])\n",
        "#data = pd.get_dummies(data, columns=[\"ABOVE AVG INCOME\"])\n",
        "X = data.drop(columns=['LEAVE','ABOVE AVG INCOME','COLLEGE','LEFTOVER','HANDSET_PRICE','REPORTED_USAGE_LEVEL','CONSIDERING_CHANGE_OF_PLAN','REPORTED_SATISFACTION'])\n",
        "Y = data['LEAVE']\n",
        "\n",
        "X_train, X_test, Y_train, Y_test = train_test_split(X,Y, test_size=0.2, random_state=42)\n",
        "\n",
        "model = DecisionTreeClassifier()\n",
        "model.fit(X_train, Y_train)\n",
        "\n",
        "Y_pred = model.predict(X_test)\n",
        "\n",
        "accuracy = accuracy_score(Y_test, Y_pred)\n",
        "report = classification_report(Y_test, Y_pred)\n",
        "conf_matrix = confusion_matrix(Y_test, Y_pred)\n",
        "\n",
        "print(\"Accuracy:\", accuracy)\n",
        "print(\"Classification Report:\\n\", report)\n",
        "print(\"Confusion Matrix:\\n\", conf_matrix)\n",
        "\n",
        "#plt.figure(figsize=(10,6))\n",
        "#plot_tree(model, feature_names=X.columns, class_names=['Stay', 'Leave'], filled=True)\n",
        "#plt.show()\n",
        "\n"
      ]
    },
    {
      "cell_type": "code",
      "source": [
        "X_D = data2.drop(columns=['LEAVE','ABOVE AVG INCOME'])\n",
        "Y_D = data2['LEAVE']\n",
        "X, X_test, Y, Y_test = train_test_split(X_D,Y_D, random_state=0)"
      ],
      "metadata": {
        "id": "_CD7ObmG39eq"
      },
      "execution_count": 66,
      "outputs": []
    },
    {
      "cell_type": "code",
      "source": [
        "X_test.head()"
      ],
      "metadata": {
        "colab": {
          "base_uri": "https://localhost:8080/",
          "height": 226
        },
        "id": "kP3j5h2-Cb_z",
        "outputId": "146f1dc0-925f-4b99-e8e6-be140a7ac9f3"
      },
      "execution_count": 67,
      "outputs": [
        {
          "output_type": "execute_result",
          "data": {
            "text/plain": [
              "      COLLEGE  INCOME  OVERAGE  LEFTOVER   HOUSE  HANDSET_PRICE  \\\n",
              "19134     one   22227        0         9  600884            212   \n",
              "4981     zero  148569        0         0  177265            632   \n",
              "16643     one  145162       63        79  202364            894   \n",
              "19117     one  144460       76         8  470975            278   \n",
              "5306     zero   59045      171         0  392213            327   \n",
              "\n",
              "       OVER_15MINS_CALLS_PER_MONTH  AVERAGE_CALL_DURATION  \\\n",
              "19134                            0                      6   \n",
              "4981                             0                     13   \n",
              "16643                            5                      1   \n",
              "19117                            3                      4   \n",
              "5306                            17                     12   \n",
              "\n",
              "       REPORTED_SATISFACTION  REPORTED_USAGE_LEVEL  CONSIDERING_CHANGE_OF_PLAN  \n",
              "19134                      4                     2                           1  \n",
              "4981                       4                     2                           0  \n",
              "16643                      4                     3                           2  \n",
              "19117                      3                     3                           3  \n",
              "5306                       1                     1                           1  "
            ],
            "text/html": [
              "\n",
              "  <div id=\"df-2503a8a6-581f-4446-a3e9-7cacddbdbecc\" class=\"colab-df-container\">\n",
              "    <div>\n",
              "<style scoped>\n",
              "    .dataframe tbody tr th:only-of-type {\n",
              "        vertical-align: middle;\n",
              "    }\n",
              "\n",
              "    .dataframe tbody tr th {\n",
              "        vertical-align: top;\n",
              "    }\n",
              "\n",
              "    .dataframe thead th {\n",
              "        text-align: right;\n",
              "    }\n",
              "</style>\n",
              "<table border=\"1\" class=\"dataframe\">\n",
              "  <thead>\n",
              "    <tr style=\"text-align: right;\">\n",
              "      <th></th>\n",
              "      <th>COLLEGE</th>\n",
              "      <th>INCOME</th>\n",
              "      <th>OVERAGE</th>\n",
              "      <th>LEFTOVER</th>\n",
              "      <th>HOUSE</th>\n",
              "      <th>HANDSET_PRICE</th>\n",
              "      <th>OVER_15MINS_CALLS_PER_MONTH</th>\n",
              "      <th>AVERAGE_CALL_DURATION</th>\n",
              "      <th>REPORTED_SATISFACTION</th>\n",
              "      <th>REPORTED_USAGE_LEVEL</th>\n",
              "      <th>CONSIDERING_CHANGE_OF_PLAN</th>\n",
              "    </tr>\n",
              "  </thead>\n",
              "  <tbody>\n",
              "    <tr>\n",
              "      <th>19134</th>\n",
              "      <td>one</td>\n",
              "      <td>22227</td>\n",
              "      <td>0</td>\n",
              "      <td>9</td>\n",
              "      <td>600884</td>\n",
              "      <td>212</td>\n",
              "      <td>0</td>\n",
              "      <td>6</td>\n",
              "      <td>4</td>\n",
              "      <td>2</td>\n",
              "      <td>1</td>\n",
              "    </tr>\n",
              "    <tr>\n",
              "      <th>4981</th>\n",
              "      <td>zero</td>\n",
              "      <td>148569</td>\n",
              "      <td>0</td>\n",
              "      <td>0</td>\n",
              "      <td>177265</td>\n",
              "      <td>632</td>\n",
              "      <td>0</td>\n",
              "      <td>13</td>\n",
              "      <td>4</td>\n",
              "      <td>2</td>\n",
              "      <td>0</td>\n",
              "    </tr>\n",
              "    <tr>\n",
              "      <th>16643</th>\n",
              "      <td>one</td>\n",
              "      <td>145162</td>\n",
              "      <td>63</td>\n",
              "      <td>79</td>\n",
              "      <td>202364</td>\n",
              "      <td>894</td>\n",
              "      <td>5</td>\n",
              "      <td>1</td>\n",
              "      <td>4</td>\n",
              "      <td>3</td>\n",
              "      <td>2</td>\n",
              "    </tr>\n",
              "    <tr>\n",
              "      <th>19117</th>\n",
              "      <td>one</td>\n",
              "      <td>144460</td>\n",
              "      <td>76</td>\n",
              "      <td>8</td>\n",
              "      <td>470975</td>\n",
              "      <td>278</td>\n",
              "      <td>3</td>\n",
              "      <td>4</td>\n",
              "      <td>3</td>\n",
              "      <td>3</td>\n",
              "      <td>3</td>\n",
              "    </tr>\n",
              "    <tr>\n",
              "      <th>5306</th>\n",
              "      <td>zero</td>\n",
              "      <td>59045</td>\n",
              "      <td>171</td>\n",
              "      <td>0</td>\n",
              "      <td>392213</td>\n",
              "      <td>327</td>\n",
              "      <td>17</td>\n",
              "      <td>12</td>\n",
              "      <td>1</td>\n",
              "      <td>1</td>\n",
              "      <td>1</td>\n",
              "    </tr>\n",
              "  </tbody>\n",
              "</table>\n",
              "</div>\n",
              "    <div class=\"colab-df-buttons\">\n",
              "\n",
              "  <div class=\"colab-df-container\">\n",
              "    <button class=\"colab-df-convert\" onclick=\"convertToInteractive('df-2503a8a6-581f-4446-a3e9-7cacddbdbecc')\"\n",
              "            title=\"Convert this dataframe to an interactive table.\"\n",
              "            style=\"display:none;\">\n",
              "\n",
              "  <svg xmlns=\"http://www.w3.org/2000/svg\" height=\"24px\" viewBox=\"0 -960 960 960\">\n",
              "    <path d=\"M120-120v-720h720v720H120Zm60-500h600v-160H180v160Zm220 220h160v-160H400v160Zm0 220h160v-160H400v160ZM180-400h160v-160H180v160Zm440 0h160v-160H620v160ZM180-180h160v-160H180v160Zm440 0h160v-160H620v160Z\"/>\n",
              "  </svg>\n",
              "    </button>\n",
              "\n",
              "  <style>\n",
              "    .colab-df-container {\n",
              "      display:flex;\n",
              "      gap: 12px;\n",
              "    }\n",
              "\n",
              "    .colab-df-convert {\n",
              "      background-color: #E8F0FE;\n",
              "      border: none;\n",
              "      border-radius: 50%;\n",
              "      cursor: pointer;\n",
              "      display: none;\n",
              "      fill: #1967D2;\n",
              "      height: 32px;\n",
              "      padding: 0 0 0 0;\n",
              "      width: 32px;\n",
              "    }\n",
              "\n",
              "    .colab-df-convert:hover {\n",
              "      background-color: #E2EBFA;\n",
              "      box-shadow: 0px 1px 2px rgba(60, 64, 67, 0.3), 0px 1px 3px 1px rgba(60, 64, 67, 0.15);\n",
              "      fill: #174EA6;\n",
              "    }\n",
              "\n",
              "    .colab-df-buttons div {\n",
              "      margin-bottom: 4px;\n",
              "    }\n",
              "\n",
              "    [theme=dark] .colab-df-convert {\n",
              "      background-color: #3B4455;\n",
              "      fill: #D2E3FC;\n",
              "    }\n",
              "\n",
              "    [theme=dark] .colab-df-convert:hover {\n",
              "      background-color: #434B5C;\n",
              "      box-shadow: 0px 1px 3px 1px rgba(0, 0, 0, 0.15);\n",
              "      filter: drop-shadow(0px 1px 2px rgba(0, 0, 0, 0.3));\n",
              "      fill: #FFFFFF;\n",
              "    }\n",
              "  </style>\n",
              "\n",
              "    <script>\n",
              "      const buttonEl =\n",
              "        document.querySelector('#df-2503a8a6-581f-4446-a3e9-7cacddbdbecc button.colab-df-convert');\n",
              "      buttonEl.style.display =\n",
              "        google.colab.kernel.accessAllowed ? 'block' : 'none';\n",
              "\n",
              "      async function convertToInteractive(key) {\n",
              "        const element = document.querySelector('#df-2503a8a6-581f-4446-a3e9-7cacddbdbecc');\n",
              "        const dataTable =\n",
              "          await google.colab.kernel.invokeFunction('convertToInteractive',\n",
              "                                                    [key], {});\n",
              "        if (!dataTable) return;\n",
              "\n",
              "        const docLinkHtml = 'Like what you see? Visit the ' +\n",
              "          '<a target=\"_blank\" href=https://colab.research.google.com/notebooks/data_table.ipynb>data table notebook</a>'\n",
              "          + ' to learn more about interactive tables.';\n",
              "        element.innerHTML = '';\n",
              "        dataTable['output_type'] = 'display_data';\n",
              "        await google.colab.output.renderOutput(dataTable, element);\n",
              "        const docLink = document.createElement('div');\n",
              "        docLink.innerHTML = docLinkHtml;\n",
              "        element.appendChild(docLink);\n",
              "      }\n",
              "    </script>\n",
              "  </div>\n",
              "\n",
              "\n",
              "<div id=\"df-deedb868-85ee-4032-8740-37707c9b5014\">\n",
              "  <button class=\"colab-df-quickchart\" onclick=\"quickchart('df-deedb868-85ee-4032-8740-37707c9b5014')\"\n",
              "            title=\"Suggest charts\"\n",
              "            style=\"display:none;\">\n",
              "\n",
              "<svg xmlns=\"http://www.w3.org/2000/svg\" height=\"24px\"viewBox=\"0 0 24 24\"\n",
              "     width=\"24px\">\n",
              "    <g>\n",
              "        <path d=\"M19 3H5c-1.1 0-2 .9-2 2v14c0 1.1.9 2 2 2h14c1.1 0 2-.9 2-2V5c0-1.1-.9-2-2-2zM9 17H7v-7h2v7zm4 0h-2V7h2v10zm4 0h-2v-4h2v4z\"/>\n",
              "    </g>\n",
              "</svg>\n",
              "  </button>\n",
              "\n",
              "<style>\n",
              "  .colab-df-quickchart {\n",
              "      --bg-color: #E8F0FE;\n",
              "      --fill-color: #1967D2;\n",
              "      --hover-bg-color: #E2EBFA;\n",
              "      --hover-fill-color: #174EA6;\n",
              "      --disabled-fill-color: #AAA;\n",
              "      --disabled-bg-color: #DDD;\n",
              "  }\n",
              "\n",
              "  [theme=dark] .colab-df-quickchart {\n",
              "      --bg-color: #3B4455;\n",
              "      --fill-color: #D2E3FC;\n",
              "      --hover-bg-color: #434B5C;\n",
              "      --hover-fill-color: #FFFFFF;\n",
              "      --disabled-bg-color: #3B4455;\n",
              "      --disabled-fill-color: #666;\n",
              "  }\n",
              "\n",
              "  .colab-df-quickchart {\n",
              "    background-color: var(--bg-color);\n",
              "    border: none;\n",
              "    border-radius: 50%;\n",
              "    cursor: pointer;\n",
              "    display: none;\n",
              "    fill: var(--fill-color);\n",
              "    height: 32px;\n",
              "    padding: 0;\n",
              "    width: 32px;\n",
              "  }\n",
              "\n",
              "  .colab-df-quickchart:hover {\n",
              "    background-color: var(--hover-bg-color);\n",
              "    box-shadow: 0 1px 2px rgba(60, 64, 67, 0.3), 0 1px 3px 1px rgba(60, 64, 67, 0.15);\n",
              "    fill: var(--button-hover-fill-color);\n",
              "  }\n",
              "\n",
              "  .colab-df-quickchart-complete:disabled,\n",
              "  .colab-df-quickchart-complete:disabled:hover {\n",
              "    background-color: var(--disabled-bg-color);\n",
              "    fill: var(--disabled-fill-color);\n",
              "    box-shadow: none;\n",
              "  }\n",
              "\n",
              "  .colab-df-spinner {\n",
              "    border: 2px solid var(--fill-color);\n",
              "    border-color: transparent;\n",
              "    border-bottom-color: var(--fill-color);\n",
              "    animation:\n",
              "      spin 1s steps(1) infinite;\n",
              "  }\n",
              "\n",
              "  @keyframes spin {\n",
              "    0% {\n",
              "      border-color: transparent;\n",
              "      border-bottom-color: var(--fill-color);\n",
              "      border-left-color: var(--fill-color);\n",
              "    }\n",
              "    20% {\n",
              "      border-color: transparent;\n",
              "      border-left-color: var(--fill-color);\n",
              "      border-top-color: var(--fill-color);\n",
              "    }\n",
              "    30% {\n",
              "      border-color: transparent;\n",
              "      border-left-color: var(--fill-color);\n",
              "      border-top-color: var(--fill-color);\n",
              "      border-right-color: var(--fill-color);\n",
              "    }\n",
              "    40% {\n",
              "      border-color: transparent;\n",
              "      border-right-color: var(--fill-color);\n",
              "      border-top-color: var(--fill-color);\n",
              "    }\n",
              "    60% {\n",
              "      border-color: transparent;\n",
              "      border-right-color: var(--fill-color);\n",
              "    }\n",
              "    80% {\n",
              "      border-color: transparent;\n",
              "      border-right-color: var(--fill-color);\n",
              "      border-bottom-color: var(--fill-color);\n",
              "    }\n",
              "    90% {\n",
              "      border-color: transparent;\n",
              "      border-bottom-color: var(--fill-color);\n",
              "    }\n",
              "  }\n",
              "</style>\n",
              "\n",
              "  <script>\n",
              "    async function quickchart(key) {\n",
              "      const quickchartButtonEl =\n",
              "        document.querySelector('#' + key + ' button');\n",
              "      quickchartButtonEl.disabled = true;  // To prevent multiple clicks.\n",
              "      quickchartButtonEl.classList.add('colab-df-spinner');\n",
              "      try {\n",
              "        const charts = await google.colab.kernel.invokeFunction(\n",
              "            'suggestCharts', [key], {});\n",
              "      } catch (error) {\n",
              "        console.error('Error during call to suggestCharts:', error);\n",
              "      }\n",
              "      quickchartButtonEl.classList.remove('colab-df-spinner');\n",
              "      quickchartButtonEl.classList.add('colab-df-quickchart-complete');\n",
              "    }\n",
              "    (() => {\n",
              "      let quickchartButtonEl =\n",
              "        document.querySelector('#df-deedb868-85ee-4032-8740-37707c9b5014 button');\n",
              "      quickchartButtonEl.style.display =\n",
              "        google.colab.kernel.accessAllowed ? 'block' : 'none';\n",
              "    })();\n",
              "  </script>\n",
              "</div>\n",
              "    </div>\n",
              "  </div>\n"
            ]
          },
          "metadata": {},
          "execution_count": 67
        }
      ]
    },
    {
      "cell_type": "code",
      "source": [
        "seed = 1\n",
        "random.seed(seed)\n",
        "torch.manual_seed(seed)"
      ],
      "metadata": {
        "colab": {
          "base_uri": "https://localhost:8080/"
        },
        "id": "i1KqhIcJ1JHb",
        "outputId": "b9e6a89d-8f0b-4373-a26e-13c15128763a"
      },
      "execution_count": 68,
      "outputs": [
        {
          "output_type": "execute_result",
          "data": {
            "text/plain": [
              "<torch._C.Generator at 0x79e35305db90>"
            ]
          },
          "metadata": {},
          "execution_count": 68
        }
      ]
    },
    {
      "cell_type": "code",
      "source": [
        "\n",
        "Y = Y.replace({'LEAVE':0,'STAY':1})\n",
        "###### Your codes end here.######\n",
        "\n",
        "# Convert Y DataFrame to integer type\n",
        "Y = Y.astype(int)"
      ],
      "metadata": {
        "id": "I5uzQFH43Y9T"
      },
      "execution_count": 69,
      "outputs": []
    },
    {
      "cell_type": "code",
      "source": [
        "X_train, X_val, Y_train, Y_val = train_test_split(X, Y, random_state=0)"
      ],
      "metadata": {
        "id": "xPBMKGAr6D4x"
      },
      "execution_count": 70,
      "outputs": []
    },
    {
      "cell_type": "code",
      "source": [
        "def convert_features_to_one_hot(df, feature_name_list):\n",
        "  for feature_name in feature_name_list:\n",
        "    df = pd.get_dummies(df, columns=[feature_name])\n",
        "\n",
        "  return df"
      ],
      "metadata": {
        "id": "t2J2b2jp6_k7"
      },
      "execution_count": 71,
      "outputs": []
    },
    {
      "cell_type": "code",
      "source": [
        "categorical_features = [\"COLLEGE\",\"REPORTED_SATISFACTION\",\"REPORTED_USAGE_LEVEL\",\"CONSIDERING_CHANGE_OF_PLAN\"]\n",
        "X_test = convert_features_to_one_hot(X_test, categorical_features)\n",
        "X_train = convert_features_to_one_hot(X_train, categorical_features)\n",
        "X_val = convert_features_to_one_hot(X_val, categorical_features)"
      ],
      "metadata": {
        "id": "X-PTyCSm7F4W"
      },
      "execution_count": 72,
      "outputs": []
    },
    {
      "cell_type": "code",
      "source": [
        "LR_model = LogisticRegression(penalty = 'l2', n_jobs=-1).fit(X_train, Y_train)"
      ],
      "metadata": {
        "id": "8cOrPQjt9Y9A"
      },
      "execution_count": 73,
      "outputs": []
    },
    {
      "cell_type": "code",
      "source": [
        "y_val_pred = LR_model.predict(X_val)\n",
        "\n",
        "print(f\"Logistic regression model validation accuracy: {np.sum(y_val_pred == Y_val)/len(Y_val)}\")"
      ],
      "metadata": {
        "colab": {
          "base_uri": "https://localhost:8080/"
        },
        "id": "OyvwANfa95ye",
        "outputId": "8a345fde-fa1b-4269-87bc-1ff31db8df40"
      },
      "execution_count": 74,
      "outputs": [
        {
          "output_type": "stream",
          "name": "stdout",
          "text": [
            "Logistic regression model validation accuracy: 0.6344\n"
          ]
        }
      ]
    },
    {
      "cell_type": "code",
      "source": [
        "y_test_pred = LR_model.predict(X_test)"
      ],
      "metadata": {
        "id": "bcYqtiS5-BOt"
      },
      "execution_count": 75,
      "outputs": []
    },
    {
      "cell_type": "code",
      "source": [
        "print(f\"Logistic regression model validation accuracy: {np.sum(y_test_pred == Y_test)/len(Y_test)}\")"
      ],
      "metadata": {
        "colab": {
          "base_uri": "https://localhost:8080/"
        },
        "id": "Dw-FzLyuAE61",
        "outputId": "c9125135-f291-4f59-fb58-9cd6bf0b3517"
      },
      "execution_count": 76,
      "outputs": [
        {
          "output_type": "stream",
          "name": "stdout",
          "text": [
            "Logistic regression model validation accuracy: 0.0\n"
          ]
        }
      ]
    },
    {
      "cell_type": "code",
      "source": [
        "device = torch.device(\"cuda:0\" if torch.cuda.is_available() else \"cpu\")"
      ],
      "metadata": {
        "id": "9UTrsA3c-GB8"
      },
      "execution_count": 77,
      "outputs": []
    },
    {
      "cell_type": "code",
      "source": [
        "# Convert training data to PyTorch tensors and move to device\n",
        "X_train = torch.tensor(X_train.values, dtype=torch.float32).to(device)\n",
        "Y_train = torch.tensor(Y_train.values, dtype=torch.long).to(device)\n",
        "\n",
        "# Convert validation data to PyTorch tensors and move to device\n",
        "X_val = torch.tensor(X_val.values, dtype=torch.float32).to(device)\n",
        "Y_val = torch.tensor(Y_val.values, dtype=torch.long).to(device)\n",
        "\n",
        "# Convert test data to PyTorch tensors and move to device\n",
        "X_test = torch.tensor(X_test.values, dtype=torch.float32).to(device)"
      ],
      "metadata": {
        "id": "XlNIT9fo-LNI"
      },
      "execution_count": 78,
      "outputs": []
    },
    {
      "cell_type": "code",
      "source": [
        "D = X_train.shape[1]  # feature dimensions\n",
        "C = 2  # num_classes\n",
        "H = 6  # num_hidden_units\n",
        "\n",
        "# Set learning rate and regularization strength\n",
        "learning_rate = 1e-5\n",
        "lambda_l2 = 1e-2\n",
        "\n",
        "# Set number of training epochs\n",
        "epochs = 25000\n"
      ],
      "metadata": {
        "id": "duIGIZds-XLj"
      },
      "execution_count": 79,
      "outputs": []
    },
    {
      "cell_type": "code",
      "source": [
        "###### 1. Your codes start here.######\n",
        "model = nn.Sequential(\n",
        "    nn.Linear(D,H),\n",
        "    nn.ReLU(),\n",
        "    nn.Linear(H,H),\n",
        "    nn.ReLU(),\n",
        "    nn.Linear(H,C)\n",
        ")\n",
        "###### Your codes end here.######\n",
        "\n",
        "model.to(device)\n",
        "\n",
        "# nn package has different loss functions.\n",
        "# we use cross entropy loss for our classification task\n",
        "\n",
        "###### 2. Your codes start here.######\n",
        "criterion = nn.CrossEntropyLoss()\n",
        "#loss = criterion(y_test_pred, Y)\n",
        "###### Your codes end here.######\n",
        "\n",
        "# we use the optim package to apply\n",
        "# ADAM for our parameter updates\n",
        "\n",
        "###### 3. Your codes start here.######\n",
        "optimizer = optim.Adam(model.parameters(), lr = learning_rate, weight_decay = lambda_l2)"
      ],
      "metadata": {
        "id": "B589875BA34P"
      },
      "execution_count": 80,
      "outputs": []
    },
    {
      "cell_type": "code",
      "source": [
        "for t in range(epochs):\n",
        "    ###### Your codes start here.######\n",
        "    y_pred = model(X_train)\n",
        "\n",
        "    loss = criterion(y_pred, Y_train)\n",
        "    score, predicted = torch.max(y_pred, 1)\n",
        "    acc = (Y_train == predicted ).sum().float() / len(Y_train)\n",
        "\n",
        "    if t % 1000 == 0:\n",
        "        print(f\"[EPOCH]: {t}, [LOSS]: {loss.item()}, [ACCURACY]: {acc}\")\n",
        "\n",
        "    optimizer.zero_grad()\n",
        "\n",
        "    loss.backward()\n",
        "\n",
        "    optimizer.step()"
      ],
      "metadata": {
        "colab": {
          "base_uri": "https://localhost:8080/"
        },
        "id": "DKY2RWoKA-ON",
        "outputId": "428dec24-66a9-4520-b159-02b59e763b4c"
      },
      "execution_count": 81,
      "outputs": [
        {
          "output_type": "stream",
          "name": "stdout",
          "text": [
            "[EPOCH]: 0, [LOSS]: 3813.684326171875, [ACCURACY]: 0.5060444474220276\n",
            "[EPOCH]: 1000, [LOSS]: 1844.7476806640625, [ACCURACY]: 0.5060444474220276\n",
            "[EPOCH]: 2000, [LOSS]: 471.7035217285156, [ACCURACY]: 0.5665777921676636\n",
            "[EPOCH]: 3000, [LOSS]: 290.4624938964844, [ACCURACY]: 0.5926222205162048\n",
            "[EPOCH]: 4000, [LOSS]: 134.04580688476562, [ACCURACY]: 0.5735999941825867\n",
            "[EPOCH]: 5000, [LOSS]: 25.43321990966797, [ACCURACY]: 0.46382221579551697\n",
            "[EPOCH]: 6000, [LOSS]: 7.954895973205566, [ACCURACY]: 0.48311111330986023\n",
            "[EPOCH]: 7000, [LOSS]: 0.9788146615028381, [ACCURACY]: 0.5689777731895447\n",
            "[EPOCH]: 8000, [LOSS]: 0.6792256236076355, [ACCURACY]: 0.6146666407585144\n",
            "[EPOCH]: 9000, [LOSS]: 0.6702443957328796, [ACCURACY]: 0.6180444359779358\n",
            "[EPOCH]: 10000, [LOSS]: 0.6630293726921082, [ACCURACY]: 0.6250666379928589\n",
            "[EPOCH]: 11000, [LOSS]: 0.657909095287323, [ACCURACY]: 0.6287111043930054\n",
            "[EPOCH]: 12000, [LOSS]: 0.650191605091095, [ACCURACY]: 0.6297777891159058\n",
            "[EPOCH]: 13000, [LOSS]: 0.6450945734977722, [ACCURACY]: 0.6287999749183655\n",
            "[EPOCH]: 14000, [LOSS]: 0.6412063241004944, [ACCURACY]: 0.6311110854148865\n",
            "[EPOCH]: 15000, [LOSS]: 0.6387494206428528, [ACCURACY]: 0.6331555843353271\n",
            "[EPOCH]: 16000, [LOSS]: 0.6373223066329956, [ACCURACY]: 0.6351110935211182\n",
            "[EPOCH]: 17000, [LOSS]: 0.6359976530075073, [ACCURACY]: 0.637511134147644\n",
            "[EPOCH]: 18000, [LOSS]: 0.6349875330924988, [ACCURACY]: 0.636888861656189\n",
            "[EPOCH]: 19000, [LOSS]: 0.6342320442199707, [ACCURACY]: 0.6371555328369141\n",
            "[EPOCH]: 20000, [LOSS]: 0.6335763335227966, [ACCURACY]: 0.6376000046730042\n",
            "[EPOCH]: 21000, [LOSS]: 0.6331071853637695, [ACCURACY]: 0.6367111206054688\n",
            "[EPOCH]: 22000, [LOSS]: 0.6330415606498718, [ACCURACY]: 0.6399111151695251\n",
            "[EPOCH]: 23000, [LOSS]: 0.6325629353523254, [ACCURACY]: 0.6354666948318481\n",
            "[EPOCH]: 24000, [LOSS]: 0.634415864944458, [ACCURACY]: 0.6277333498001099\n"
          ]
        }
      ]
    },
    {
      "cell_type": "code",
      "source": [
        "with torch.no_grad():\n",
        "  y_val_pred = model(X_val)\n",
        "  _, predicted_val = torch.max(y_val_pred, 1)\n",
        "  val_acc = (Y_val == predicted_val).sum().float() / len(Y_val)\n",
        "\n",
        "  # Print validation accuracy\n",
        "  print(f\"Neural network model validation accuracy: {val_acc}\")"
      ],
      "metadata": {
        "colab": {
          "base_uri": "https://localhost:8080/"
        },
        "id": "S9SWtPuABFvP",
        "outputId": "2d4c4477-481e-4255-b6b3-032a1780657c"
      },
      "execution_count": 82,
      "outputs": [
        {
          "output_type": "stream",
          "name": "stdout",
          "text": [
            "Neural network model validation accuracy: 0.6359999775886536\n"
          ]
        }
      ]
    },
    {
      "cell_type": "code",
      "source": [
        "with torch.no_grad():\n",
        "  y_test_pred = model(X_test)\n",
        "  _, predicted_test = torch.max(y_test_pred, 1)"
      ],
      "metadata": {
        "id": "AIST-rntBHvZ"
      },
      "execution_count": 83,
      "outputs": []
    }
  ]
}